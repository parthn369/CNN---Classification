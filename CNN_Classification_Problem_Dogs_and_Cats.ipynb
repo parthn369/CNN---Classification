{
  "nbformat": 4,
  "nbformat_minor": 0,
  "metadata": {
    "colab": {
      "name": "CNN - Classification Problem - Dogs and Cats.ipynb",
      "provenance": [],
      "authorship_tag": "ABX9TyPjxpBkxtL95v3pKnNCS7cN",
      "include_colab_link": true
    },
    "kernelspec": {
      "name": "python3",
      "display_name": "Python 3"
    }
  },
  "cells": [
    {
      "cell_type": "markdown",
      "metadata": {
        "id": "view-in-github",
        "colab_type": "text"
      },
      "source": [
        "<a href=\"https://colab.research.google.com/github/parthn369/CNN-Classification/blob/main/CNN_Classification_Problem_Dogs_and_Cats.ipynb\" target=\"_parent\"><img src=\"https://colab.research.google.com/assets/colab-badge.svg\" alt=\"Open In Colab\"/></a>"
      ]
    },
    {
      "cell_type": "code",
      "metadata": {
        "id": "HMx_WH_VkWTf",
        "outputId": "209b6400-f436-44b4-e686-53846b384d86",
        "colab": {
          "base_uri": "https://localhost:8080/"
        }
      },
      "source": [
        "from google.colab import drive\n",
        "drive.mount('/content/drive')"
      ],
      "execution_count": 1,
      "outputs": [
        {
          "output_type": "stream",
          "text": [
            "Mounted at /content/drive\n"
          ],
          "name": "stdout"
        }
      ]
    },
    {
      "cell_type": "code",
      "metadata": {
        "id": "jq_NrnkMkctB",
        "outputId": "fc4a93de-c4a4-46d0-e777-4edfe18be724",
        "colab": {
          "base_uri": "https://localhost:8080/"
        }
      },
      "source": [
        "from zipfile import ZipFile\n",
        "file_name = \"/content/drive/My Drive/dataset_new.zip\"\n",
        "with ZipFile(file_name,'r') as zip:\n",
        "  zip.extractall()\n",
        "  print('finish')"
      ],
      "execution_count": 2,
      "outputs": [
        {
          "output_type": "stream",
          "text": [
            "finish\n"
          ],
          "name": "stdout"
        }
      ]
    },
    {
      "cell_type": "code",
      "metadata": {
        "id": "HQfZ9pEBkrIb"
      },
      "source": [
        "import keras\n",
        "from keras.models import Sequential\n",
        "from keras.preprocessing.image import ImageDataGenerator\n",
        "from keras.layers import Dense, Activation, Flatten, Dropout\n",
        "from keras.layers import Conv2D, MaxPooling2D\n",
        "import numpy as np"
      ],
      "execution_count": 3,
      "outputs": []
    },
    {
      "cell_type": "code",
      "metadata": {
        "id": "Zck0o5ZYkusn"
      },
      "source": [
        "### Creating model and layers\n",
        "model = Sequential();\n",
        "# Step 1 - Convolution\n",
        "model.add(Conv2D(32,(3,3),input_shape=(64,64,3),activation='relu'))\n",
        "model.add(MaxPooling2D(pool_size=(2,2)))\n",
        "model.add(Dropout(0.2))\n",
        "# Step 1 - Convolution\n",
        "model.add(Conv2D(64,(3,3),activation='relu'))\n",
        "# Step 2 - Pooling\n",
        "model.add(MaxPooling2D(pool_size=(2,2)))\n",
        "model.add(Dropout(0.3))\n",
        "model.add(Conv2D(128,(3,3),activation='relu'))\n",
        "# Step 2 - Pooling\n",
        "model.add(MaxPooling2D(pool_size=(2,2)))\n",
        "model.add(Dropout(0.4))\n",
        "# Step 3 - Flattening\n",
        "model.add(Flatten())\n",
        "### Hidden and output\n",
        "# Step 4 - Full connection\n",
        "#model.add(Dense(128, activation='relu'))    ### hidden layer\n",
        "model.add(Dense(1, activation='sigmoid'))   ## output layer\n",
        "# Compiling the CNN\n",
        "model.compile(optimizer ='adam',loss='binary_crossentropy',metrics=['accuracy'])"
      ],
      "execution_count": 4,
      "outputs": []
    },
    {
      "cell_type": "code",
      "metadata": {
        "id": "ScMBm24Pk3a4"
      },
      "source": [
        "\n",
        "train_datagen = ImageDataGenerator(rescale = 1./255,\n",
        "                                   shear_range = 0.2,\n",
        "                                   zoom_range = 0.2,\n",
        "                                   horizontal_flip = True)\n",
        "test_datagen = ImageDataGenerator(rescale = 1./255,\n",
        "                                  shear_range = 0.2,\n",
        "                                   zoom_range = 0.2,\n",
        "                                   horizontal_flip = True)"
      ],
      "execution_count": 5,
      "outputs": []
    },
    {
      "cell_type": "code",
      "metadata": {
        "id": "PZBI6-Yhk8dt",
        "outputId": "decdb55c-44b9-45f1-d6ce-cba1d021a7b2",
        "colab": {
          "base_uri": "https://localhost:8080/"
        }
      },
      "source": [
        "training_set = train_datagen.flow_from_directory('/content/dataset_new/training_set',\n",
        "                                                 target_size = (64, 64),\n",
        "                                                 batch_size = 32,\n",
        "                                                 class_mode = 'binary')"
      ],
      "execution_count": 6,
      "outputs": [
        {
          "output_type": "stream",
          "text": [
            "Found 2000 images belonging to 2 classes.\n"
          ],
          "name": "stdout"
        }
      ]
    },
    {
      "cell_type": "code",
      "metadata": {
        "id": "ZDWlYoSIlBRU",
        "outputId": "6aea3adb-ac10-4818-9b86-1e843b967bc6",
        "colab": {
          "base_uri": "https://localhost:8080/"
        }
      },
      "source": [
        "test_set = test_datagen.flow_from_directory('/content/dataset_new/test_set',\n",
        "                                            target_size = (64, 64),\n",
        "                                            batch_size = 32,\n",
        "                                            class_mode = 'binary')"
      ],
      "execution_count": 7,
      "outputs": [
        {
          "output_type": "stream",
          "text": [
            "Found 500 images belonging to 2 classes.\n"
          ],
          "name": "stdout"
        }
      ]
    },
    {
      "cell_type": "code",
      "metadata": {
        "id": "2_qI9PTalF0y",
        "outputId": "d4d80440-f271-4874-e669-ce674f067eaf",
        "colab": {
          "base_uri": "https://localhost:8080/"
        }
      },
      "source": [
        "model.fit_generator(training_set,\n",
        "                         epochs = 50,\n",
        "                         steps_per_epoch=2000//32,\n",
        "                         validation_steps=500//32,\n",
        "                         validation_data = test_set)"
      ],
      "execution_count": 14,
      "outputs": [
        {
          "output_type": "stream",
          "text": [
            "Epoch 1/50\n",
            "62/62 [==============================] - 23s 371ms/step - loss: 0.1176 - accuracy: 0.9502 - val_loss: 0.6082 - val_accuracy: 0.8083\n",
            "Epoch 2/50\n",
            "62/62 [==============================] - 23s 367ms/step - loss: 0.1464 - accuracy: 0.9446 - val_loss: 0.5198 - val_accuracy: 0.8250\n",
            "Epoch 3/50\n",
            "62/62 [==============================] - 23s 367ms/step - loss: 0.1444 - accuracy: 0.9421 - val_loss: 0.6166 - val_accuracy: 0.7958\n",
            "Epoch 4/50\n",
            "62/62 [==============================] - 23s 370ms/step - loss: 0.1278 - accuracy: 0.9502 - val_loss: 0.5745 - val_accuracy: 0.8125\n",
            "Epoch 5/50\n",
            "62/62 [==============================] - 23s 374ms/step - loss: 0.1240 - accuracy: 0.9527 - val_loss: 0.6411 - val_accuracy: 0.8125\n",
            "Epoch 6/50\n",
            "62/62 [==============================] - 24s 395ms/step - loss: 0.1154 - accuracy: 0.9553 - val_loss: 0.5509 - val_accuracy: 0.8188\n",
            "Epoch 7/50\n",
            "62/62 [==============================] - 23s 368ms/step - loss: 0.1292 - accuracy: 0.9527 - val_loss: 0.5629 - val_accuracy: 0.8208\n",
            "Epoch 8/50\n",
            "62/62 [==============================] - 23s 369ms/step - loss: 0.1567 - accuracy: 0.9294 - val_loss: 0.5722 - val_accuracy: 0.8104\n",
            "Epoch 9/50\n",
            "62/62 [==============================] - 23s 368ms/step - loss: 0.1405 - accuracy: 0.9436 - val_loss: 0.5460 - val_accuracy: 0.7875\n",
            "Epoch 10/50\n",
            "62/62 [==============================] - 24s 384ms/step - loss: 0.1213 - accuracy: 0.9502 - val_loss: 0.5549 - val_accuracy: 0.8042\n",
            "Epoch 11/50\n",
            "62/62 [==============================] - 23s 372ms/step - loss: 0.1362 - accuracy: 0.9456 - val_loss: 0.6224 - val_accuracy: 0.7854\n",
            "Epoch 12/50\n",
            "62/62 [==============================] - 23s 375ms/step - loss: 0.1259 - accuracy: 0.9512 - val_loss: 0.5206 - val_accuracy: 0.8042\n",
            "Epoch 13/50\n",
            "62/62 [==============================] - 23s 370ms/step - loss: 0.1269 - accuracy: 0.9558 - val_loss: 0.5520 - val_accuracy: 0.8250\n",
            "Epoch 14/50\n",
            "62/62 [==============================] - 23s 374ms/step - loss: 0.1278 - accuracy: 0.9477 - val_loss: 0.5982 - val_accuracy: 0.7917\n",
            "Epoch 15/50\n",
            "62/62 [==============================] - 23s 370ms/step - loss: 0.1162 - accuracy: 0.9507 - val_loss: 0.6677 - val_accuracy: 0.7750\n",
            "Epoch 16/50\n",
            "62/62 [==============================] - 23s 367ms/step - loss: 0.1303 - accuracy: 0.9512 - val_loss: 0.6652 - val_accuracy: 0.7917\n",
            "Epoch 17/50\n",
            "62/62 [==============================] - 23s 366ms/step - loss: 0.1116 - accuracy: 0.9558 - val_loss: 0.5883 - val_accuracy: 0.7979\n",
            "Epoch 18/50\n",
            "62/62 [==============================] - 23s 365ms/step - loss: 0.1204 - accuracy: 0.9527 - val_loss: 0.6188 - val_accuracy: 0.7937\n",
            "Epoch 19/50\n",
            "62/62 [==============================] - 23s 379ms/step - loss: 0.1171 - accuracy: 0.9533 - val_loss: 0.5455 - val_accuracy: 0.8229\n",
            "Epoch 20/50\n",
            "62/62 [==============================] - 24s 389ms/step - loss: 0.1210 - accuracy: 0.9512 - val_loss: 0.6764 - val_accuracy: 0.7854\n",
            "Epoch 21/50\n",
            "62/62 [==============================] - 23s 367ms/step - loss: 0.1350 - accuracy: 0.9441 - val_loss: 0.6224 - val_accuracy: 0.7792\n",
            "Epoch 22/50\n",
            "62/62 [==============================] - 23s 367ms/step - loss: 0.1182 - accuracy: 0.9512 - val_loss: 0.6765 - val_accuracy: 0.7750\n",
            "Epoch 23/50\n",
            "62/62 [==============================] - 24s 387ms/step - loss: 0.1334 - accuracy: 0.9466 - val_loss: 0.5596 - val_accuracy: 0.8104\n",
            "Epoch 24/50\n",
            "62/62 [==============================] - 23s 367ms/step - loss: 0.1203 - accuracy: 0.9522 - val_loss: 0.5664 - val_accuracy: 0.8250\n",
            "Epoch 25/50\n",
            "62/62 [==============================] - 23s 366ms/step - loss: 0.1308 - accuracy: 0.9451 - val_loss: 0.5699 - val_accuracy: 0.8125\n",
            "Epoch 26/50\n",
            "62/62 [==============================] - 23s 368ms/step - loss: 0.1361 - accuracy: 0.9431 - val_loss: 0.6064 - val_accuracy: 0.8000\n",
            "Epoch 27/50\n",
            "62/62 [==============================] - 23s 367ms/step - loss: 0.1103 - accuracy: 0.9609 - val_loss: 0.5628 - val_accuracy: 0.8271\n",
            "Epoch 28/50\n",
            "62/62 [==============================] - 23s 366ms/step - loss: 0.1142 - accuracy: 0.9578 - val_loss: 0.6110 - val_accuracy: 0.8208\n",
            "Epoch 29/50\n",
            "62/62 [==============================] - 23s 365ms/step - loss: 0.1068 - accuracy: 0.9593 - val_loss: 0.6662 - val_accuracy: 0.8104\n",
            "Epoch 30/50\n",
            "62/62 [==============================] - 23s 365ms/step - loss: 0.1251 - accuracy: 0.9512 - val_loss: 0.6018 - val_accuracy: 0.7979\n",
            "Epoch 31/50\n",
            "62/62 [==============================] - 23s 366ms/step - loss: 0.1382 - accuracy: 0.9477 - val_loss: 0.6498 - val_accuracy: 0.7854\n",
            "Epoch 32/50\n",
            "62/62 [==============================] - 23s 364ms/step - loss: 0.1347 - accuracy: 0.9497 - val_loss: 0.7549 - val_accuracy: 0.7500\n",
            "Epoch 33/50\n",
            "62/62 [==============================] - 23s 375ms/step - loss: 0.1419 - accuracy: 0.9395 - val_loss: 0.6003 - val_accuracy: 0.8229\n",
            "Epoch 34/50\n",
            "62/62 [==============================] - 23s 375ms/step - loss: 0.1177 - accuracy: 0.9522 - val_loss: 0.6240 - val_accuracy: 0.7979\n",
            "Epoch 35/50\n",
            "62/62 [==============================] - 23s 367ms/step - loss: 0.1064 - accuracy: 0.9573 - val_loss: 0.6569 - val_accuracy: 0.8104\n",
            "Epoch 36/50\n",
            "62/62 [==============================] - 23s 370ms/step - loss: 0.0911 - accuracy: 0.9670 - val_loss: 0.6166 - val_accuracy: 0.7958\n",
            "Epoch 37/50\n",
            "62/62 [==============================] - 23s 373ms/step - loss: 0.1161 - accuracy: 0.9553 - val_loss: 0.6053 - val_accuracy: 0.7958\n",
            "Epoch 38/50\n",
            "62/62 [==============================] - 23s 365ms/step - loss: 0.1134 - accuracy: 0.9604 - val_loss: 0.6315 - val_accuracy: 0.7958\n",
            "Epoch 39/50\n",
            "62/62 [==============================] - 23s 365ms/step - loss: 0.1122 - accuracy: 0.9578 - val_loss: 0.6676 - val_accuracy: 0.8021\n",
            "Epoch 40/50\n",
            "62/62 [==============================] - 23s 367ms/step - loss: 0.1175 - accuracy: 0.9573 - val_loss: 0.7256 - val_accuracy: 0.7708\n",
            "Epoch 41/50\n",
            "62/62 [==============================] - 23s 366ms/step - loss: 0.1119 - accuracy: 0.9573 - val_loss: 0.7113 - val_accuracy: 0.8021\n",
            "Epoch 42/50\n",
            "62/62 [==============================] - 23s 365ms/step - loss: 0.1211 - accuracy: 0.9553 - val_loss: 0.6601 - val_accuracy: 0.7854\n",
            "Epoch 43/50\n",
            "62/62 [==============================] - 23s 365ms/step - loss: 0.1093 - accuracy: 0.9593 - val_loss: 0.6188 - val_accuracy: 0.8000\n",
            "Epoch 44/50\n",
            "62/62 [==============================] - 23s 366ms/step - loss: 0.1100 - accuracy: 0.9548 - val_loss: 0.6353 - val_accuracy: 0.7833\n",
            "Epoch 45/50\n",
            "62/62 [==============================] - 23s 366ms/step - loss: 0.1299 - accuracy: 0.9538 - val_loss: 0.6876 - val_accuracy: 0.7833\n",
            "Epoch 46/50\n",
            "62/62 [==============================] - 23s 366ms/step - loss: 0.1216 - accuracy: 0.9512 - val_loss: 0.6805 - val_accuracy: 0.7896\n",
            "Epoch 47/50\n",
            "62/62 [==============================] - 23s 378ms/step - loss: 0.1189 - accuracy: 0.9512 - val_loss: 0.6457 - val_accuracy: 0.7937\n",
            "Epoch 48/50\n",
            "62/62 [==============================] - 23s 373ms/step - loss: 0.1288 - accuracy: 0.9492 - val_loss: 0.6410 - val_accuracy: 0.8083\n",
            "Epoch 49/50\n",
            "62/62 [==============================] - 23s 367ms/step - loss: 0.1183 - accuracy: 0.9543 - val_loss: 0.6645 - val_accuracy: 0.7771\n",
            "Epoch 50/50\n",
            "62/62 [==============================] - 23s 373ms/step - loss: 0.1311 - accuracy: 0.9466 - val_loss: 0.6132 - val_accuracy: 0.7896\n"
          ],
          "name": "stdout"
        },
        {
          "output_type": "execute_result",
          "data": {
            "text/plain": [
              "<tensorflow.python.keras.callbacks.History at 0x7fa6eba51160>"
            ]
          },
          "metadata": {
            "tags": []
          },
          "execution_count": 14
        }
      ]
    },
    {
      "cell_type": "code",
      "metadata": {
        "id": "VT-fDJ9pWT7w",
        "outputId": "b15a9527-1c24-43a8-e4f0-5e33ccea5f99",
        "colab": {
          "base_uri": "https://localhost:8080/"
        }
      },
      "source": [
        "import numpy as np\n",
        "from keras.preprocessing import image \n",
        "test_image = image.load_img('cat.jpg',target_size=(64,64))\n",
        "test_image = image.img_to_array(test_image)\n",
        "test_image = np.expand_dims(test_image,axis=0)\n",
        "result = model.predict(test_image)\n",
        "if result[0][0] == 1:\n",
        "  prediction = 'dog'\n",
        "  print(prediction)\n",
        "else:\n",
        "  prediction = 'cat'\n",
        "  print(prediction)"
      ],
      "execution_count": 15,
      "outputs": [
        {
          "output_type": "stream",
          "text": [
            "cat\n"
          ],
          "name": "stdout"
        }
      ]
    },
    {
      "cell_type": "code",
      "metadata": {
        "id": "D8J38Ij-Wzeh",
        "outputId": "9e4529fb-6658-4799-fc52-0c3646e594c9",
        "colab": {
          "base_uri": "https://localhost:8080/"
        }
      },
      "source": [
        " result[0][0]"
      ],
      "execution_count": 16,
      "outputs": [
        {
          "output_type": "execute_result",
          "data": {
            "text/plain": [
              "0.0"
            ]
          },
          "metadata": {
            "tags": []
          },
          "execution_count": 16
        }
      ]
    },
    {
      "cell_type": "code",
      "metadata": {
        "id": "Ie_f4n8ZXFmZ"
      },
      "source": [
        "model.save(\"cnn.h5\")"
      ],
      "execution_count": 17,
      "outputs": []
    }
  ]
}